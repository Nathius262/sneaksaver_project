{
 "cells": [
  {
   "cell_type": "markdown",
   "metadata": {},
   "source": [
    "# SNEAKSAVER IMAGE RECOGINATION TOOL"
   ]
  },
  {
   "cell_type": "code",
   "execution_count": 1,
   "metadata": {},
   "outputs": [
    {
     "name": "stdout",
     "output_type": "stream",
     "text": [
      "WARNING:tensorflow:From d:\\workspace\\sneaksaver\\sneaksaver-venv\\Lib\\site-packages\\keras\\src\\losses.py:2976: The name tf.losses.sparse_softmax_cross_entropy is deprecated. Please use tf.compat.v1.losses.sparse_softmax_cross_entropy instead.\n",
      "\n",
      "WARNING:tensorflow:From d:\\workspace\\sneaksaver\\sneaksaver-venv\\Lib\\site-packages\\tensorflow_estimator\\python\\estimator\\util.py:74: The name tf.train.SessionRunHook is deprecated. Please use tf.estimator.SessionRunHook instead.\n",
      "\n",
      "WARNING:tensorflow:From d:\\workspace\\sneaksaver\\sneaksaver-venv\\Lib\\site-packages\\tensorflow_hub\\native_module.py:92: The name tf.GraphKeys is deprecated. Please use tf.compat.v1.GraphKeys instead.\n",
      "\n",
      "WARNING:tensorflow:From d:\\workspace\\sneaksaver\\sneaksaver-venv\\Lib\\site-packages\\tensorflow_hub\\saved_model_module.py:40: The name tf.saved_model.constants.LEGACY_INIT_OP_KEY is deprecated. Please use tf.compat.v1.saved_model.constants.LEGACY_INIT_OP_KEY instead.\n",
      "\n"
     ]
    }
   ],
   "source": [
    "import numpy as np\n",
    "import pandas as pd\n",
    "import tensorflow as tf\n",
    "from tensorflow import keras\n",
    "from tensorflow.keras import regularizers\n",
    "from tensorflow.keras import optimizers, losses\n",
    "\n",
    "\n",
    "from keras.models import Sequential\n",
    "import tensorflow_hub as hub\n",
    "from tensorflow.keras.utils import to_categorical\n",
    "from keras.layers import Conv2D, MaxPool2D, MaxPooling2D, GlobalAveragePooling2D, BatchNormalization, Dropout, Dense, Flatten, Input, Lambda\n",
    "\n",
    "\n",
    "from tensorflow.keras.preprocessing.image import ImageDataGenerator\n",
    "from keras.callbacks import ModelCheckpoint\n",
    "from keras.callbacks import ReduceLROnPlateau , EarlyStopping\n",
    "from tensorflow.keras.optimizers import Adam \n",
    "import os"
   ]
  },
  {
   "cell_type": "code",
   "execution_count": 2,
   "metadata": {},
   "outputs": [],
   "source": [
    "BASE_DIR = os.path.dirname(os.path.dirname(os.path.abspath(\"\")))\n",
    "\n",
    "train_dir = os.path.join(BASE_DIR, \"media\", \"dataset\", \"preprocess\")\n",
    "test_dir = os.path.join(BASE_DIR, \"media\", \"dataset\", \"test\")\n"
   ]
  },
  {
   "cell_type": "code",
   "execution_count": 3,
   "metadata": {},
   "outputs": [],
   "source": [
    "train_datagen = ImageDataGenerator(rescale = 1./ 255, rotation_range = 40, width_shift_range = 0.2, \n",
    "                                   height_shift_range = 0.2, shear_range = 0.2, zoom_range = 0.2, \n",
    "                                   horizontal_flip = True, fill_mode = 'nearest')"
   ]
  },
  {
   "cell_type": "code",
   "execution_count": 4,
   "metadata": {},
   "outputs": [],
   "source": [
    "test_datagen = ImageDataGenerator(rescale = 1./ 255)"
   ]
  },
  {
   "cell_type": "code",
   "execution_count": 5,
   "metadata": {},
   "outputs": [
    {
     "name": "stdout",
     "output_type": "stream",
     "text": [
      "Found 825 images belonging to 3 classes.\n",
      "Found 114 images belonging to 3 classes.\n"
     ]
    }
   ],
   "source": [
    "train_data = train_datagen.flow_from_directory(directory = train_dir, batch_size = 32, target_size = (240,240), class_mode = \"categorical\", shuffle = False)\n",
    "test_data = test_datagen.flow_from_directory(directory = test_dir, batch_size = 32, target_size = (240,240), class_mode = \"categorical\")"
   ]
  },
  {
   "cell_type": "code",
   "execution_count": 6,
   "metadata": {},
   "outputs": [
    {
     "name": "stdout",
     "output_type": "stream",
     "text": [
      "WARNING:tensorflow:From d:\\workspace\\sneaksaver\\sneaksaver-venv\\Lib\\site-packages\\keras\\src\\backend.py:873: The name tf.get_default_graph is deprecated. Please use tf.compat.v1.get_default_graph instead.\n",
      "\n",
      "WARNING:tensorflow:From d:\\workspace\\sneaksaver\\sneaksaver-venv\\Lib\\site-packages\\keras\\src\\layers\\pooling\\max_pooling2d.py:161: The name tf.nn.max_pool is deprecated. Please use tf.nn.max_pool2d instead.\n",
      "\n"
     ]
    }
   ],
   "source": [
    "model = tf.keras.models.Sequential([\n",
    "    Conv2D(16, (3,3), activation = 'relu', input_shape = (240,240, 3)),\n",
    "    MaxPooling2D(2,2),\n",
    "    Conv2D(32, (3,3), activation = 'relu'),\n",
    "    MaxPooling2D(2,2),\n",
    "    Conv2D(32, (3,3), activation = 'relu'),\n",
    "    MaxPooling2D(2,2),\n",
    "    Conv2D(32, (3,3), activation = 'relu'),\n",
    "    MaxPooling2D(2,2),\n",
    "    Flatten(),\n",
    "    Dense(512, activation = 'relu'),\n",
    "    Dropout(0.2),\n",
    "    Dense(3, activation = 'softmax')\n",
    "])"
   ]
  },
  {
   "cell_type": "code",
   "execution_count": 7,
   "metadata": {},
   "outputs": [],
   "source": [
    "# Using the Adam Optimizer to set the learning rate of our final model\n",
    "opt = optimizers.Adam(learning_rate=0.0001)\n",
    "\n",
    "# Compiling and setting the parameters we want our model to use\n",
    "model.compile(loss=\"categorical_crossentropy\", optimizer=opt, metrics=['accuracy'])"
   ]
  },
  {
   "cell_type": "code",
   "execution_count": 8,
   "metadata": {},
   "outputs": [
    {
     "name": "stdout",
     "output_type": "stream",
     "text": [
      "{'adidas': 0, 'converse': 1, 'nike': 2}\n"
     ]
    }
   ],
   "source": [
    "for image_batch, label_batch in train_data:\n",
    "  break\n",
    "image_batch.shape, label_batch.shape\n",
    "\n",
    "label_batch[0:5]\n",
    "print (train_data.class_indices)"
   ]
  },
  {
   "cell_type": "code",
   "execution_count": 9,
   "metadata": {},
   "outputs": [
    {
     "name": "stderr",
     "output_type": "stream",
     "text": [
      "'cat' is not recognized as an internal or external command,\n",
      "operable program or batch file.\n"
     ]
    }
   ],
   "source": [
    "#write all the labels to a text file\n",
    "labels = \"\\n\".join(sorted(train_data.class_indices.keys()))\n",
    "with open(\"labels.txt\", \"w\") as f:\n",
    " f.write(labels)\n",
    "!cat labels.txt"
   ]
  },
  {
   "cell_type": "code",
   "execution_count": 10,
   "metadata": {},
   "outputs": [
    {
     "name": "stdout",
     "output_type": "stream",
     "text": [
      "Epoch 1/10\n",
      "WARNING:tensorflow:From d:\\workspace\\sneaksaver\\sneaksaver-venv\\Lib\\site-packages\\keras\\src\\utils\\tf_utils.py:492: The name tf.ragged.RaggedTensorValue is deprecated. Please use tf.compat.v1.ragged.RaggedTensorValue instead.\n",
      "\n",
      "26/26 [==============================] - 408s 13s/step - loss: 1.1866 - accuracy: 0.2230 - val_loss: 1.1093 - val_accuracy: 0.2500\n",
      "Epoch 2/10\n",
      "26/26 [==============================] - 301s 12s/step - loss: 1.1234 - accuracy: 0.2461 - val_loss: 1.0988 - val_accuracy: 0.4062\n",
      "Epoch 3/10\n",
      "26/26 [==============================] - 331s 12s/step - loss: 1.1082 - accuracy: 0.2727 - val_loss: 1.0928 - val_accuracy: 0.3438\n",
      "Epoch 4/10\n",
      "26/26 [==============================] - 230s 9s/step - loss: 1.1024 - accuracy: 0.3321 - val_loss: 1.0883 - val_accuracy: 0.4688\n",
      "Epoch 5/10\n",
      "26/26 [==============================] - 170s 6s/step - loss: 1.1077 - accuracy: 0.2545 - val_loss: 1.0838 - val_accuracy: 0.4688\n",
      "Epoch 6/10\n",
      "26/26 [==============================] - 184s 7s/step - loss: 1.1140 - accuracy: 0.2521 - val_loss: 1.0957 - val_accuracy: 0.3438\n",
      "Epoch 7/10\n",
      "26/26 [==============================] - 166s 6s/step - loss: 1.1007 - accuracy: 0.3309 - val_loss: 1.0921 - val_accuracy: 0.4375\n",
      "Epoch 8/10\n",
      "26/26 [==============================] - 163s 6s/step - loss: 1.0994 - accuracy: 0.3261 - val_loss: 1.0928 - val_accuracy: 0.3125\n",
      "Epoch 9/10\n",
      "26/26 [==============================] - 163s 6s/step - loss: 1.1047 - accuracy: 0.2812 - val_loss: 1.0815 - val_accuracy: 0.4688\n",
      "Epoch 10/10\n",
      "26/26 [==============================] - 162s 6s/step - loss: 1.1012 - accuracy: 0.3067 - val_loss: 1.1060 - val_accuracy: 0.2500\n"
     ]
    }
   ],
   "source": [
    "history = model.fit(train_data, epochs = 10, steps_per_epoch = len(train_data), validation_data = test_data, validation_steps = int(0.25 * len(test_data)))"
   ]
  },
  {
   "cell_type": "code",
   "execution_count": 11,
   "metadata": {},
   "outputs": [
    {
     "name": "stdout",
     "output_type": "stream",
     "text": [
      "Model: \"sequential\"\n",
      "_________________________________________________________________\n",
      " Layer (type)                Output Shape              Param #   \n",
      "=================================================================\n",
      " conv2d (Conv2D)             (None, 238, 238, 16)      448       \n",
      "                                                                 \n",
      " max_pooling2d (MaxPooling2  (None, 119, 119, 16)      0         \n",
      " D)                                                              \n",
      "                                                                 \n",
      " conv2d_1 (Conv2D)           (None, 117, 117, 32)      4640      \n",
      "                                                                 \n",
      " max_pooling2d_1 (MaxPoolin  (None, 58, 58, 32)        0         \n",
      " g2D)                                                            \n",
      "                                                                 \n",
      " conv2d_2 (Conv2D)           (None, 56, 56, 32)        9248      \n",
      "                                                                 \n",
      " max_pooling2d_2 (MaxPoolin  (None, 28, 28, 32)        0         \n",
      " g2D)                                                            \n",
      "                                                                 \n",
      " conv2d_3 (Conv2D)           (None, 26, 26, 32)        9248      \n",
      "                                                                 \n",
      " max_pooling2d_3 (MaxPoolin  (None, 13, 13, 32)        0         \n",
      " g2D)                                                            \n",
      "                                                                 \n",
      " flatten (Flatten)           (None, 5408)              0         \n",
      "                                                                 \n",
      " dense (Dense)               (None, 512)               2769408   \n",
      "                                                                 \n",
      " dropout (Dropout)           (None, 512)               0         \n",
      "                                                                 \n",
      " dense_1 (Dense)             (None, 3)                 1539      \n",
      "                                                                 \n",
      "=================================================================\n",
      "Total params: 2794531 (10.66 MB)\n",
      "Trainable params: 2794531 (10.66 MB)\n",
      "Non-trainable params: 0 (0.00 Byte)\n",
      "_________________________________________________________________\n"
     ]
    }
   ],
   "source": [
    "model.summary()"
   ]
  },
  {
   "cell_type": "code",
   "execution_count": 12,
   "metadata": {},
   "outputs": [
    {
     "name": "stdout",
     "output_type": "stream",
     "text": [
      "Found 114 images belonging to 3 classes.\n"
     ]
    },
    {
     "name": "stdout",
     "output_type": "stream",
     "text": [
      "4/4 [==============================] - 5s 1s/step - loss: 1.0887 - accuracy: 0.3421\n",
      "Test Loss: 1.0887137651443481\n",
      "Test Accuracy: 0.34210526943206787\n"
     ]
    }
   ],
   "source": [
    "# Create a generator for test data\n",
    "test_data_generator = test_datagen.flow_from_directory(\n",
    "    directory=test_dir,\n",
    "    batch_size=32,\n",
    "    target_size=(240, 240),\n",
    "    class_mode=\"categorical\",\n",
    "    shuffle=False  # Ensure order is maintained for evaluation\n",
    ")\n",
    "\n",
    "# Evaluate the model using the generator\n",
    "test_loss, test_accuracy = model.evaluate(test_data_generator)\n",
    "\n",
    "print(f'Test Loss: {test_loss}')\n",
    "print(f'Test Accuracy: {test_accuracy}')"
   ]
  },
  {
   "cell_type": "code",
   "execution_count": 13,
   "metadata": {},
   "outputs": [
    {
     "name": "stderr",
     "output_type": "stream",
     "text": [
      "d:\\workspace\\sneaksaver\\sneaksaver-venv\\Lib\\site-packages\\keras\\src\\engine\\training.py:3103: UserWarning: You are saving your model as an HDF5 file via `model.save()`. This file format is considered legacy. We recommend using instead the native Keras format, e.g. `model.save('my_model.keras')`.\n",
      "  saving_api.save_model(\n"
     ]
    }
   ],
   "source": [
    "# Specify the path where you want to save the model\n",
    "save_path = os.path.join(BASE_DIR, \"sneakers_image_recog\", \"ml_model\", 'sneak_image_recog_model.h5')\n",
    "\n",
    "# Save the model to the specified path\n",
    "model.save(save_path)"
   ]
  },
  {
   "cell_type": "markdown",
   "metadata": {},
   "source": [
    "### Reference\n",
    "\n",
    "https://www.kaggle.com/code/manarkandeel/sneakers-brand-classification/notebook"
   ]
  },
  {
   "cell_type": "code",
   "execution_count": 14,
   "metadata": {},
   "outputs": [
    {
     "name": "stdout",
     "output_type": "stream",
     "text": [
      "Class Labels: [-0.00020822 -0.0003104   0.00020118]\n"
     ]
    }
   ],
   "source": [
    "softmax_layer = model.layers[-1]\n",
    "\n",
    "# Extract the class labels from the softmax layer\n",
    "class_labels = softmax_layer.get_weights()[1]\n",
    "\n",
    "# Print the class labels\n",
    "print(\"Class Labels:\", class_labels)"
   ]
  }
 ],
 "metadata": {
  "kernelspec": {
   "display_name": "sneaksaver-venv",
   "language": "python",
   "name": "python3"
  },
  "language_info": {
   "codemirror_mode": {
    "name": "ipython",
    "version": 3
   },
   "file_extension": ".py",
   "mimetype": "text/x-python",
   "name": "python",
   "nbconvert_exporter": "python",
   "pygments_lexer": "ipython3",
   "version": "3.11.3"
  }
 },
 "nbformat": 4,
 "nbformat_minor": 2
}
