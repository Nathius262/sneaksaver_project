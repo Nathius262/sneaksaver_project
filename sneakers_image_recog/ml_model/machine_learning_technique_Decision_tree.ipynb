{
 "cells": [
  {
   "cell_type": "markdown",
   "metadata": {},
   "source": [
    "## SNEAKSAVER IMAGE RECOGINATION TOOL USING DECISION TREE"
   ]
  },
  {
   "cell_type": "code",
   "execution_count": 62,
   "metadata": {},
   "outputs": [],
   "source": [
    "from sklearn.tree import DecisionTreeClassifier\n",
    "from sklearn.model_selection import train_test_split\n",
    "from sklearn.metrics import accuracy_score, classification_report\n",
    "import os\n",
    "from skimage import io, transform, exposure, util, color\n",
    "from skimage.io import imread\n",
    "from skimage.transform import resize\n",
    "from skimage.color import rgb2gray\n",
    "import numpy as np\n",
    "import pandas as pd\n",
    "#import matplotlib.pyplot as plt"
   ]
  },
  {
   "cell_type": "code",
   "execution_count": 63,
   "metadata": {},
   "outputs": [],
   "source": [
    "\n",
    "BASE_DIR = os.path.dirname(os.path.dirname(os.path.abspath(\"\")))\n",
    "\n",
    "inputDir =  os.path.join(BASE_DIR, \"media\", \"dataset\", \"sneakers\")\n",
    "outputDir = os.path.join(BASE_DIR, \"media\", \"dataset\", \"preprocess\")\n",
    "target = []\n",
    "flat_data = []\n",
    "images = []\n",
    "DataDirectory =  outputDir\n",
    "\n",
    "# Images to be classified as:\n",
    "Categories = [\"nike\",\"converse\",\"adidas\"]"
   ]
  },
  {
   "cell_type": "code",
   "execution_count": 64,
   "metadata": {},
   "outputs": [],
   "source": [
    "def image_augmentation(image, target_shape=(240, 240, 3)):\n",
    "    \n",
    "    \"\"\"Image Augmentation\n",
    "\n",
    "    Returns:\n",
    "        _type_: _description_\n",
    "    \"\"\"\n",
    "    # Rotation\n",
    "    angle = np.random.uniform(low=-40, high=40)\n",
    "    image = transform.rotate(image, angle)\n",
    "\n",
    "    # Shift\n",
    "    width_shift = np.random.uniform(low=-0.2, high=0.2)\n",
    "    height_shift = np.random.uniform(low=-0.2, high=0.2)\n",
    "    image = transform.warp(image, transform.AffineTransform(translation=(width_shift, height_shift)))\n",
    "\n",
    "    # Shear\n",
    "    shear_range = np.random.uniform(low=-0.2, high=0.2)\n",
    "    image = transform.warp(image, transform.AffineTransform(shear=shear_range))\n",
    "\n",
    "    # Zoom\n",
    "    zoom_range = np.random.uniform(low=0.8, high=1.2)\n",
    "    image = transform.rescale(image, zoom_range)\n",
    "\n",
    "    # Horizontal Flip\n",
    "    if np.random.choice([True, False]):\n",
    "        image = np.fliplr(image)\n",
    "\n",
    "    # Fill mode 'nearest' - scikit-image warp doesn't have a direct equivalent\n",
    "    # You may choose to use skimage.util.random_noise or other transformations for filling\n",
    "    \n",
    "    augmented_image = (image * 255).astype(np.uint8)\n",
    "    \n",
    "    # Convert to RGB if the image is in grayscale with an alpha channel\n",
    "    if augmented_image.shape[-1] == 2:\n",
    "        augmented_image = color.gray2rgb(augmented_image[:, :, 0])\n",
    "        \n",
    "    # Convert to RGB if the image is in RGBA format\n",
    "    if augmented_image.shape[-1] == 4:\n",
    "        augmented_image = color.rgba2rgb(augmented_image)\n",
    "        \n",
    "     # Ensure the image has 3 channels (RGB)\n",
    "    if augmented_image.shape[-1] != 3:\n",
    "        augmented_image = np.stack([augmented_image[:, :, 0]] * 3, axis=-1)\n",
    "        \n",
    "    # Resize the image to the target shape\n",
    "    augmented_image = transform.resize(augmented_image, target_shape, anti_aliasing=True)\n",
    "\n",
    "    augmented_image = util.img_as_ubyte(augmented_image)\n",
    "    \n",
    "        \n",
    "    \n",
    "        \n",
    "    #print(f\"Augmented image shape: {augmented_image.shape}\")\n",
    "    #print(f\"Augmented image data type: {augmented_image.dtype}\")\n",
    "\n",
    "        \n",
    "    return augmented_image\n",
    "\n",
    "\n",
    "\n",
    "def dataset_augmentation(input_dir, output_dir):\n",
    "    # Create output directory if it doesn't exist\n",
    "    if not os.path.exists(output_dir):\n",
    "        os.makedirs(output_dir)\n",
    "\n",
    "    # Iterate through each image in the input directory\n",
    "    for filename in os.listdir(input_dir):\n",
    "        if filename.endswith(\".jpg\") or filename.endswith(\".png\"): \n",
    "            # Add more file extensions as needed\n",
    "            \n",
    "            image_path = os.path.join(input_dir, filename)\n",
    "            original_image = io.imread(image_path)\n",
    "\n",
    "            # Apply augmentation\n",
    "            augmented_image = image_augmentation(original_image)\n",
    "\n",
    "            # Save the augmented image to the output directory\n",
    "            output_path = os.path.join(output_dir, filename)\n",
    "            io.imsave(output_path, augmented_image)"
   ]
  },
  {
   "cell_type": "code",
   "execution_count": 65,
   "metadata": {},
   "outputs": [],
   "source": [
    "\n",
    "\n",
    "for i in Categories:\n",
    "    dataset_augmentation(os.path.join(inputDir, i), os.path.join(outputDir, i))"
   ]
  },
  {
   "cell_type": "code",
   "execution_count": 66,
   "metadata": {},
   "outputs": [
    {
     "name": "stdout",
     "output_type": "stream",
     "text": [
      "Category is: nike \tLabel encoded as: 0\n"
     ]
    },
    {
     "name": "stdout",
     "output_type": "stream",
     "text": [
      "Category is: converse \tLabel encoded as: 1\n",
      "Category is: adidas \tLabel encoded as: 2\n"
     ]
    }
   ],
   "source": [
    "for i in Categories:\n",
    "  print(\"Category is:\",i,\"\\tLabel encoded as:\",Categories.index(i))\n",
    "  # Encode categories cute puppy as 0, icecream cone as 1 and red rose as 2\n",
    "  target_class = Categories.index(i)\n",
    "  # Create data path for all folders under MinorProject\n",
    "  path = os.path.join(DataDirectory,i)\n",
    "  # Image resizing, to ensure all images are of same dimensions\n",
    "  for img in os.listdir(path):\n",
    "    img_array = imread(os.path.join(path,img))\n",
    "    # Skimage normalizes the value of image\n",
    "    img_resized = resize(img_array,(240,240,3))\n",
    "    flat_data.append(img_resized.flatten())\n",
    "    images.append(img_resized)\n",
    "    target.append(target_class)\n",
    "# Convert list to numpy array format\n",
    "flat_data = np.array(flat_data)\n",
    "images = np.array(images)\n",
    "target = np.array(target)"
   ]
  },
  {
   "cell_type": "code",
   "execution_count": 67,
   "metadata": {},
   "outputs": [],
   "source": [
    "\n",
    "df = pd.DataFrame(flat_data)\n",
    "# Create a column for output data called Target\n",
    "df['Target'] = target\n",
    "# Rows are all the input images (90 images, 30 of each category)\n",
    "df\n",
    "\n",
    "X = df.drop('Target', axis=1)\n",
    "y = df['Target']"
   ]
  },
  {
   "cell_type": "code",
   "execution_count": 69,
   "metadata": {},
   "outputs": [
    {
     "name": "stdout",
     "output_type": "stream",
     "text": [
      "Accuracy: 0.35080645161290325\n",
      "              precision    recall  f1-score   support\n",
      "\n",
      "           0       0.32      0.35      0.33        84\n",
      "           1       0.41      0.33      0.36        86\n",
      "           2       0.34      0.38      0.36        78\n",
      "\n",
      "    accuracy                           0.35       248\n",
      "   macro avg       0.36      0.35      0.35       248\n",
      "weighted avg       0.36      0.35      0.35       248\n",
      "\n"
     ]
    }
   ],
   "source": [
    "# Assuming X contains your features and y contains your labels\n",
    "X_train, X_test, y_train, y_test = train_test_split(X, y, test_size=0.3, random_state=42)\n",
    "\n",
    "# Create a decision tree classifier\n",
    "model = DecisionTreeClassifier()\n",
    "\n",
    "# Train the model\n",
    "model.fit(X_train, y_train)\n",
    "\n",
    "# Make predictions on the test set\n",
    "y_pred = model.predict(X_test)\n",
    "\n",
    "# Evaluate the performance\n",
    "accuracy = accuracy_score(y_test, y_pred)\n",
    "print(f\"Accuracy: {accuracy}\")\n",
    "print(classification_report(y_test, y_pred))"
   ]
  }
 ],
 "metadata": {
  "kernelspec": {
   "display_name": "sneaksaver-venv",
   "language": "python",
   "name": "python3"
  },
  "language_info": {
   "codemirror_mode": {
    "name": "ipython",
    "version": 3
   },
   "file_extension": ".py",
   "mimetype": "text/x-python",
   "name": "python",
   "nbconvert_exporter": "python",
   "pygments_lexer": "ipython3",
   "version": "3.11.3"
  }
 },
 "nbformat": 4,
 "nbformat_minor": 2
}
